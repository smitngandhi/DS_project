{
 "cells": [
  {
   "cell_type": "code",
   "execution_count": 1,
   "id": "936966ea",
   "metadata": {},
   "outputs": [],
   "source": [
    "import os"
   ]
  },
  {
   "cell_type": "code",
   "execution_count": 2,
   "id": "113a72ba",
   "metadata": {},
   "outputs": [
    {
     "data": {
      "text/plain": [
       "'c:\\\\Users\\\\Smit\\\\Desktop\\\\DESKTOP\\\\Github Repos\\\\DS_project\\\\research'"
      ]
     },
     "execution_count": 2,
     "metadata": {},
     "output_type": "execute_result"
    }
   ],
   "source": [
    "%pwd"
   ]
  },
  {
   "cell_type": "code",
   "execution_count": 3,
   "id": "8ed79e69",
   "metadata": {},
   "outputs": [],
   "source": [
    "os.chdir(\"../\")"
   ]
  },
  {
   "cell_type": "code",
   "execution_count": 4,
   "id": "f71355b5",
   "metadata": {},
   "outputs": [
    {
     "data": {
      "text/plain": [
       "'c:\\\\Users\\\\Smit\\\\Desktop\\\\DESKTOP\\\\Github Repos\\\\DS_project'"
      ]
     },
     "execution_count": 4,
     "metadata": {},
     "output_type": "execute_result"
    }
   ],
   "source": [
    "%pwd"
   ]
  },
  {
   "cell_type": "code",
   "execution_count": 5,
   "id": "a6bc0dc9",
   "metadata": {},
   "outputs": [],
   "source": [
    "from dataclasses import dataclass\n",
    "from pathlib import Path\n",
    "\n",
    "@dataclass\n",
    "class DataTransformationConfig:\n",
    "    root_dir: Path \n",
    "    data_path: str"
   ]
  },
  {
   "cell_type": "code",
   "execution_count": 6,
   "id": "c37f9506",
   "metadata": {},
   "outputs": [],
   "source": [
    "from src.DS_project.constants import *\n",
    "from src.DS_project.utils.common import *"
   ]
  },
  {
   "cell_type": "code",
   "execution_count": 8,
   "id": "5c715426",
   "metadata": {},
   "outputs": [],
   "source": [
    "class ConfigurationManager:\n",
    "    def __init__(self , \n",
    "                 config_path =CONFIG_FILE_PATH , \n",
    "                 params_path =PARAMS_FILE_PATH , \n",
    "                 schema_path=SCHEMA_FILE_PATH):\n",
    "        self.config_path = read_yaml(config_path)\n",
    "        self.params_path = read_yaml(params_path)\n",
    "        self.schema_path = read_yaml(schema_path)\n",
    "\n",
    "        create_directories([self.config_path.artifacts_root])\n",
    "\n",
    "    def get_data_transformation(self) -> DataTransformationConfig:\n",
    "        config = self.config_path.data_transformation\n",
    "        create_directories([config.root_dir])\n",
    "\n",
    "        data_transformation = DataTransformationConfig(\n",
    "            root_dir= config.root_dir,\n",
    "            data_path= config.data_path\n",
    "        )\n",
    "\n",
    "        return data_transformation"
   ]
  },
  {
   "cell_type": "code",
   "execution_count": 11,
   "id": "ecb5cd6a",
   "metadata": {},
   "outputs": [],
   "source": [
    "import pandas as pd\n",
    "from sklearn.model_selection import train_test_split\n",
    "from src.DS_project import logger"
   ]
  },
  {
   "cell_type": "code",
   "execution_count": 12,
   "id": "e467a285",
   "metadata": {},
   "outputs": [],
   "source": [
    "class DataTransformation:\n",
    "    def __init__(self , config: DataTransformationConfig):\n",
    "        self.config = config\n",
    "\n",
    "    def train_test_splitting(self):\n",
    "        data = pd.read_csv(self.config.data_path)\n",
    "\n",
    "        train , test = train_test_split(data)\n",
    "\n",
    "        train.to_csv(os.path.join(self.config.root_dir , 'train.csv'))\n",
    "        test.to_csv(os.path.join(self.config.root_dir , \"test.csv\"))\n",
    "\n",
    "\n",
    "        logger.info(\"Train and Test data arre saved \")\n",
    "\n",
    "        print(train.shape)\n",
    "        print(test.shape)\n",
    "\n"
   ]
  },
  {
   "cell_type": "code",
   "execution_count": 13,
   "id": "fc38bcb4",
   "metadata": {},
   "outputs": [
    {
     "name": "stdout",
     "output_type": "stream",
     "text": [
      "2025-07-03 09:56:32,648: INFO: common: Yaml file: config\\config.yaml is loaded successfully\n",
      "2025-07-03 09:56:32,662: INFO: common: Yaml file: params.yaml is loaded successfully\n",
      "2025-07-03 09:56:32,675: INFO: common: Yaml file: schema.yaml is loaded successfully\n",
      "2025-07-03 09:56:32,677: INFO: common: Directory artifacts is created\n",
      "2025-07-03 09:56:32,679: INFO: common: Directory artifacts/data_transformation is created\n",
      "2025-07-03 09:56:32,737: INFO: 3951107040: Train and Test data arre saved \n",
      "(1199, 12)\n",
      "(400, 12)\n"
     ]
    }
   ],
   "source": [
    "try:\n",
    "    cm = ConfigurationManager()\n",
    "    data_transformation_config = cm.get_data_transformation()\n",
    "    data_transformation = DataTransformation(config=data_transformation_config)\n",
    "    data_transformation.train_test_splitting()\n",
    "except Exception as e:\n",
    "    logger.exception(e)\n",
    "    raise e"
   ]
  },
  {
   "cell_type": "code",
   "execution_count": null,
   "id": "c3931ca8",
   "metadata": {},
   "outputs": [],
   "source": []
  }
 ],
 "metadata": {
  "kernelspec": {
   "display_name": "ds_venv",
   "language": "python",
   "name": "python3"
  },
  "language_info": {
   "codemirror_mode": {
    "name": "ipython",
    "version": 3
   },
   "file_extension": ".py",
   "mimetype": "text/x-python",
   "name": "python",
   "nbconvert_exporter": "python",
   "pygments_lexer": "ipython3",
   "version": "3.12.7"
  }
 },
 "nbformat": 4,
 "nbformat_minor": 5
}
