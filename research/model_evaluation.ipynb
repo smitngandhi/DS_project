{
 "cells": [
  {
   "cell_type": "code",
   "execution_count": null,
   "id": "40c150b3",
   "metadata": {},
   "outputs": [],
   "source": [
    "import os\n",
    "from dotenv import load_dotenv\n",
    "\n",
    "load_dotenv()"
   ]
  },
  {
   "cell_type": "code",
   "execution_count": null,
   "id": "bc9e7c21",
   "metadata": {},
   "outputs": [],
   "source": [
    "os.environ[\"MLFLOW_TRACKING_URI\"] = os.getenv('MLFLOW_TRACKING_URI')\n",
    "os.environ[\"MLFLOW_TRACKING_USERNAME\"] = os.getenv(\"MLFLOW_TRACKING_USERNAME\")\n",
    "os.environ[\"MLFLOW_TRACKING_PASSWORD\"] = os.getenv(\"MLFLOW_TRACKING_PASSWORD\")"
   ]
  },
  {
   "cell_type": "code",
   "execution_count": 3,
   "id": "3a996d92",
   "metadata": {},
   "outputs": [
    {
     "data": {
      "text/plain": [
       "'c:\\\\Users\\\\Smit\\\\Desktop\\\\DESKTOP\\\\Github Repos\\\\DS_project\\\\research'"
      ]
     },
     "execution_count": 3,
     "metadata": {},
     "output_type": "execute_result"
    }
   ],
   "source": [
    "%pwd"
   ]
  },
  {
   "cell_type": "code",
   "execution_count": 4,
   "id": "fcdd5fa9",
   "metadata": {},
   "outputs": [],
   "source": [
    "os.chdir(\"../\")"
   ]
  },
  {
   "cell_type": "code",
   "execution_count": 5,
   "id": "a07dc439",
   "metadata": {},
   "outputs": [
    {
     "data": {
      "text/plain": [
       "'c:\\\\Users\\\\Smit\\\\Desktop\\\\DESKTOP\\\\Github Repos\\\\DS_project'"
      ]
     },
     "execution_count": 5,
     "metadata": {},
     "output_type": "execute_result"
    }
   ],
   "source": [
    "%pwd"
   ]
  },
  {
   "cell_type": "code",
   "execution_count": 6,
   "id": "5fd2017d",
   "metadata": {},
   "outputs": [],
   "source": [
    "from dataclasses import dataclass\n",
    "from pathlib import Path"
   ]
  },
  {
   "cell_type": "code",
   "execution_count": 7,
   "id": "48b3b390",
   "metadata": {},
   "outputs": [],
   "source": [
    "@dataclass\n",
    "class ModelEvaluationConfig:\n",
    "    root_dir: Path \n",
    "    test_path: Path\n",
    "    model_path: Path \n",
    "    metrics_path: Path\n",
    "    all_params: dict\n",
    "    target_column: str\n",
    "    mlflow_uri: str"
   ]
  },
  {
   "cell_type": "code",
   "execution_count": 8,
   "id": "d046c017",
   "metadata": {},
   "outputs": [],
   "source": [
    "from src.DS_project.constants import *\n",
    "from src.DS_project.utils.common import *"
   ]
  },
  {
   "cell_type": "code",
   "execution_count": 9,
   "id": "bda75107",
   "metadata": {},
   "outputs": [],
   "source": [
    "class ConfigurationManager:\n",
    "    def __init__(self , \n",
    "                 config_path =CONFIG_FILE_PATH , \n",
    "                 params_path =PARAMS_FILE_PATH , \n",
    "                 schema_path=SCHEMA_FILE_PATH):\n",
    "        self.config_path = read_yaml(config_path)\n",
    "        self.params_path = read_yaml(params_path)\n",
    "        self.schema_path = read_yaml(schema_path)\n",
    "\n",
    "        create_directories([self.config_path.artifacts_root])\n",
    "\n",
    "    def get_model_evaluation(self) -> ModelEvaluationConfig:\n",
    "        config = self.config_path.model_evaluation\n",
    "        create_directories([config.root_dir])\n",
    "        schema = self.schema_path.TARGET_COLUMN\n",
    "        params = self.params_path.ElasticNet\n",
    "\n",
    "        model_evaluation = ModelEvaluationConfig(\n",
    "            root_dir=config.root_dir,\n",
    "            test_path=config.test_path,\n",
    "            model_path=config.model_path,\n",
    "            metrics_path=config.metrics_path,\n",
    "            all_params=params,\n",
    "            target_column=schema.name,\n",
    "            mlflow_uri=\"https://dagshub.com/smitngandhi/DS_project.mlflow\"\n",
    "        )\n",
    "\n",
    "\n",
    "        return model_evaluation"
   ]
  },
  {
   "cell_type": "code",
   "execution_count": 10,
   "id": "5c63b1b8",
   "metadata": {},
   "outputs": [],
   "source": [
    "from sklearn.metrics import root_mean_squared_error , mean_absolute_error , r2_score\n",
    "import mlflow\n",
    "import pandas as pd\n",
    "from urllib.parse import urlparse\n"
   ]
  },
  {
   "cell_type": "code",
   "execution_count": 13,
   "id": "685c4848",
   "metadata": {},
   "outputs": [],
   "source": [
    "class Model_evaluation:\n",
    "    def __init__(self , config:ModelEvaluationConfig):\n",
    "        self.config = config\n",
    "\n",
    "    def eval_metrics(self, actual , predicted):\n",
    "        rmse = root_mean_squared_error(actual , predicted)\n",
    "        mae = mean_absolute_error(actual , predicted)\n",
    "        r2 = r2_score(actual , predicted)\n",
    "\n",
    "        return rmse , mae , r2\n",
    "    \n",
    "    def evaluate_with_mlflow(self):\n",
    "\n",
    "        test = pd.read_csv(self.config.test_path)\n",
    "\n",
    "        test_x = test.drop(self.config.target_column , axis = 1)\n",
    "        test_y = test[self.config.target_column]\n",
    "\n",
    "        model = joblib.load(self.config.model_path)\n",
    "        logger.info(\"Model is loaded successfully\")\n",
    "\n",
    "        mlflow.set_tracking_uri(self.config.mlflow_uri)\n",
    "        tracking_uri_type_store = urlparse(mlflow.get_tracking_uri()).scheme\n",
    "\n",
    "        with mlflow.start_run():\n",
    "\n",
    "            predictions = model.predict(test_x)\n",
    "\n",
    "            logger.info(\"Predictions are ready\")\n",
    "\n",
    "            (rmse , mae , r2) = self.eval_metrics(test_y , predictions)\n",
    "\n",
    "            scores = {'rmse': rmse , 'mae': mae , 'r2': r2}\n",
    "\n",
    "            save_json(path=(Path(self.config.metrics_path)) , data=scores)\n",
    "\n",
    "            mlflow.log_params(self.config.all_params)\n",
    "\n",
    "            print(\"Tracking URI:\", mlflow.get_tracking_uri())\n",
    "\n",
    "            mlflow.log_metric('rmse' , rmse)\n",
    "            mlflow.log_metric('mae', mae)\n",
    "            mlflow.log_metric('r2' , r2)\n",
    "\n",
    "            # mlflow.sklearn.log_model(sk_model=model)\n",
    "\n",
    "            "
   ]
  },
  {
   "cell_type": "code",
   "execution_count": 14,
   "id": "4b6782ef",
   "metadata": {},
   "outputs": [
    {
     "name": "stdout",
     "output_type": "stream",
     "text": [
      "2025-07-03 15:32:38,435: INFO: common: Yaml file: config\\config.yaml is loaded successfully\n",
      "2025-07-03 15:32:38,437: INFO: common: Yaml file: params.yaml is loaded successfully\n",
      "2025-07-03 15:32:38,439: INFO: common: Yaml file: schema.yaml is loaded successfully\n",
      "2025-07-03 15:32:38,441: INFO: common: Directory artifacts is created\n",
      "2025-07-03 15:32:38,441: INFO: common: Directory artifacts/model_evaluation is created\n",
      "2025-07-03 15:32:38,448: INFO: 1375258951: Model is loaded successfully\n",
      "2025-07-03 15:32:38,842: INFO: 1375258951: Predictions are ready\n",
      "2025-07-03 15:32:38,848: INFO: common: json file saved at artifacts\\model_evaluation\\metrics.json\n",
      "Tracking URI: https://dagshub.com/smitngandhi/DS_project.mlflow\n",
      "🏃 View run vaunted-frog-379 at: https://dagshub.com/smitngandhi/DS_project.mlflow/#/experiments/0/runs/91026d07001d4f49a86b1265a756dad6\n",
      "🧪 View experiment at: https://dagshub.com/smitngandhi/DS_project.mlflow/#/experiments/0\n"
     ]
    }
   ],
   "source": [
    "try:\n",
    "    cm = ConfigurationManager()\n",
    "    model_evaluation_config = cm.get_model_evaluation()\n",
    "    model_evaluation = Model_evaluation(config=model_evaluation_config)\n",
    "    model_evaluation.evaluate_with_mlflow()\n",
    "except Exception as e:\n",
    "    logger.exception(e)\n",
    "    raise e"
   ]
  },
  {
   "cell_type": "code",
   "execution_count": null,
   "id": "9ea36d23",
   "metadata": {},
   "outputs": [],
   "source": []
  },
  {
   "cell_type": "code",
   "execution_count": null,
   "id": "29a98ea3",
   "metadata": {},
   "outputs": [],
   "source": []
  }
 ],
 "metadata": {
  "kernelspec": {
   "display_name": "ds_venv",
   "language": "python",
   "name": "python3"
  },
  "language_info": {
   "codemirror_mode": {
    "name": "ipython",
    "version": 3
   },
   "file_extension": ".py",
   "mimetype": "text/x-python",
   "name": "python",
   "nbconvert_exporter": "python",
   "pygments_lexer": "ipython3",
   "version": "3.12.7"
  }
 },
 "nbformat": 4,
 "nbformat_minor": 5
}
