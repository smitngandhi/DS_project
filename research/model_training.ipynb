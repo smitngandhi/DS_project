{
 "cells": [
  {
   "cell_type": "code",
   "execution_count": 2,
   "id": "b3e50287",
   "metadata": {},
   "outputs": [],
   "source": [
    "import os"
   ]
  },
  {
   "cell_type": "code",
   "execution_count": 3,
   "id": "bfc74ab0",
   "metadata": {},
   "outputs": [
    {
     "data": {
      "text/plain": [
       "'c:\\\\Users\\\\Smit\\\\Desktop\\\\DESKTOP\\\\Github Repos\\\\DS_project\\\\research'"
      ]
     },
     "execution_count": 3,
     "metadata": {},
     "output_type": "execute_result"
    }
   ],
   "source": [
    "%pwd"
   ]
  },
  {
   "cell_type": "code",
   "execution_count": 4,
   "id": "75e51141",
   "metadata": {},
   "outputs": [],
   "source": [
    "os.chdir(\"../\")"
   ]
  },
  {
   "cell_type": "code",
   "execution_count": 5,
   "id": "3dd4e88d",
   "metadata": {},
   "outputs": [
    {
     "data": {
      "text/plain": [
       "'c:\\\\Users\\\\Smit\\\\Desktop\\\\DESKTOP\\\\Github Repos\\\\DS_project'"
      ]
     },
     "execution_count": 5,
     "metadata": {},
     "output_type": "execute_result"
    }
   ],
   "source": [
    "%pwd"
   ]
  },
  {
   "cell_type": "code",
   "execution_count": 15,
   "id": "bc9f8a32",
   "metadata": {},
   "outputs": [],
   "source": [
    "from dataclasses import dataclass\n",
    "from pathlib import Path\n",
    "\n",
    "@dataclass\n",
    "class ModelTrainingConfig:\n",
    "    root_dir: Path \n",
    "    train_path: Path\n",
    "    test_path: Path\n",
    "    model_name: str\n",
    "    alpha: float\n",
    "    l1_ratio: float\n",
    "    target_column: str"
   ]
  },
  {
   "cell_type": "code",
   "execution_count": 16,
   "id": "fb59a15f",
   "metadata": {},
   "outputs": [],
   "source": [
    "from src.DS_project.utils.common import *\n",
    "from src.DS_project.constants import *"
   ]
  },
  {
   "cell_type": "code",
   "execution_count": 21,
   "id": "26ddf460",
   "metadata": {},
   "outputs": [],
   "source": [
    "class ConfigurationManager:\n",
    "    def __init__(self , \n",
    "                 config_path =CONFIG_FILE_PATH , \n",
    "                 params_path =PARAMS_FILE_PATH , \n",
    "                 schema_path=SCHEMA_FILE_PATH):\n",
    "        self.config_path = read_yaml(config_path)\n",
    "        self.params_path = read_yaml(params_path)\n",
    "        self.schema_path = read_yaml(schema_path)\n",
    "\n",
    "        create_directories([self.config_path.artifacts_root])\n",
    "\n",
    "    def get_model_training(self) -> ModelTrainingConfig:\n",
    "        config = self.config_path.model_training\n",
    "        create_directories([config.root_dir])\n",
    "        params = self.params_path.ElasticNet\n",
    "        schema = self.schema_path.TARGET_COLUMN\n",
    "\n",
    "        model_training = ModelTrainingConfig(\n",
    "            root_dir=config.root_dir,\n",
    "            train_path=config.train_path,\n",
    "            test_path=config.test_path,\n",
    "            model_name=config.model_name,\n",
    "            alpha=params.alpha,\n",
    "            l1_ratio=params.l1_ratio,\n",
    "            target_column=schema.name\n",
    "        )\n",
    "\n",
    "        return model_training"
   ]
  },
  {
   "cell_type": "code",
   "execution_count": 22,
   "id": "b57040a8",
   "metadata": {},
   "outputs": [],
   "source": [
    "from src.DS_project import logger\n",
    "import pandas as pd\n",
    "from sklearn.linear_model import ElasticNet\n",
    "import joblib"
   ]
  },
  {
   "cell_type": "code",
   "execution_count": 23,
   "id": "2f9262be",
   "metadata": {},
   "outputs": [],
   "source": [
    "class Model_Training:\n",
    "    def __init__(self , config: ModelTrainingConfig):\n",
    "        self.config = config\n",
    "\n",
    "    def train_model(self):\n",
    "\n",
    "        train_data = pd.read_csv(self.config.train_path)\n",
    "        test_data = pd.read_csv(self.config.test_path)\n",
    "\n",
    "\n",
    "        train_x = train_data.drop(self.config.target_column , axis=1)\n",
    "        train_y = train_data[self.config.target_column]\n",
    "        test_x = test_data.drop(self.config.target_column , axis =1)\n",
    "        test_y = test_data[self.config.target_column]\n",
    "\n",
    "        lr = ElasticNet(alpha=self.config.alpha , l1_ratio=self.config.l1_ratio , random_state=42)\n",
    "\n",
    "        lr.fit(train_x , train_y)\n",
    "\n",
    "        joblib.dump(lr , os.path.join(self.config.root_dir , self.config.model_name))\n",
    "\n",
    "\n",
    "\n",
    "        \n"
   ]
  },
  {
   "cell_type": "code",
   "execution_count": 24,
   "id": "9a5fbb21",
   "metadata": {},
   "outputs": [
    {
     "name": "stdout",
     "output_type": "stream",
     "text": [
      "2025-07-03 10:40:49,636: INFO: common: Yaml file: config\\config.yaml is loaded successfully\n",
      "2025-07-03 10:40:49,639: INFO: common: Yaml file: params.yaml is loaded successfully\n",
      "2025-07-03 10:40:49,652: INFO: common: Yaml file: schema.yaml is loaded successfully\n",
      "2025-07-03 10:40:49,655: INFO: common: Directory artifacts is created\n",
      "2025-07-03 10:40:49,657: INFO: common: Directory artifacts/model_training is created\n"
     ]
    }
   ],
   "source": [
    "try:\n",
    "    cm = ConfigurationManager()\n",
    "    model_training_config = cm.get_model_training()\n",
    "    model_training = Model_Training(config=model_training_config)\n",
    "    model_training.train_model()\n",
    "except Exception as e:\n",
    "    logger.exception(e)\n",
    "    raise e"
   ]
  },
  {
   "cell_type": "code",
   "execution_count": null,
   "id": "0668fee7",
   "metadata": {},
   "outputs": [],
   "source": []
  }
 ],
 "metadata": {
  "kernelspec": {
   "display_name": "ds_venv",
   "language": "python",
   "name": "python3"
  },
  "language_info": {
   "codemirror_mode": {
    "name": "ipython",
    "version": 3
   },
   "file_extension": ".py",
   "mimetype": "text/x-python",
   "name": "python",
   "nbconvert_exporter": "python",
   "pygments_lexer": "ipython3",
   "version": "3.12.7"
  }
 },
 "nbformat": 4,
 "nbformat_minor": 5
}
