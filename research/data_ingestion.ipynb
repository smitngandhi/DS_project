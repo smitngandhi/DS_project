{
 "cells": [
  {
   "cell_type": "code",
   "execution_count": 1,
   "id": "339f2d76",
   "metadata": {},
   "outputs": [],
   "source": [
    "import os"
   ]
  },
  {
   "cell_type": "code",
   "execution_count": 2,
   "id": "93c8c06d",
   "metadata": {},
   "outputs": [
    {
     "data": {
      "text/plain": [
       "'c:\\\\Users\\\\Smit\\\\Desktop\\\\DESKTOP\\\\Github Repos\\\\DS_project\\\\research'"
      ]
     },
     "execution_count": 2,
     "metadata": {},
     "output_type": "execute_result"
    }
   ],
   "source": [
    "%pwd"
   ]
  },
  {
   "cell_type": "code",
   "execution_count": 3,
   "id": "741df97d",
   "metadata": {},
   "outputs": [
    {
     "data": {
      "text/plain": [
       "'c:\\\\Users\\\\Smit\\\\Desktop\\\\DESKTOP\\\\Github Repos\\\\DS_project'"
      ]
     },
     "execution_count": 3,
     "metadata": {},
     "output_type": "execute_result"
    }
   ],
   "source": [
    "os.chdir(\"../\")\n",
    "%pwd"
   ]
  },
  {
   "cell_type": "code",
   "execution_count": 4,
   "id": "140620fd",
   "metadata": {},
   "outputs": [],
   "source": [
    "from src.DS_project.constants import *\n",
    "from src.DS_project.utils.common import *\n"
   ]
  },
  {
   "cell_type": "code",
   "execution_count": 7,
   "id": "5decb914",
   "metadata": {},
   "outputs": [],
   "source": [
    "from dataclasses import dataclass\n",
    "\n",
    "@dataclass\n",
    "class DataIngestionConfig:\n",
    "    root_dir: Path\n",
    "    source_URL: str\n",
    "    local_data_file: Path\n",
    "    unzip_dir: Path"
   ]
  },
  {
   "cell_type": "code",
   "execution_count": 8,
   "id": "e166e5a5",
   "metadata": {},
   "outputs": [],
   "source": [
    "class ConfigurationManager:\n",
    "    def __init__(self , \n",
    "                 config_path =CONFIG_FILE_PATH , \n",
    "                 params_path =PARAMS_FILE_PATH , \n",
    "                 schema_path=SCHEMA_FILE_PATH):\n",
    "        self.config_path = read_yaml(config_path)\n",
    "        self.params_path = read_yaml(params_path)\n",
    "        self.schema_path = read_yaml(schema_path)\n",
    "\n",
    "        create_directories([self.config_path.artifacts_root])\n",
    "\n",
    "    def get_data_ingestion(self) -> DataIngestionConfig:\n",
    "        config = self.config_path.data_ingestion\n",
    "        create_directories([config.root_dir])\n",
    "\n",
    "        data_ingestion = DataIngestionConfig(\n",
    "            root_dir = config.root_dir,\n",
    "            source_URL = config.source_URL,\n",
    "            local_data_file = config.local_data_file,\n",
    "            unzip_dir = config.unzip_dir\n",
    "        )\n",
    "\n",
    "        return data_ingestion\n"
   ]
  },
  {
   "cell_type": "code",
   "execution_count": 9,
   "id": "374fa5cf",
   "metadata": {},
   "outputs": [],
   "source": [
    "import os\n",
    "import urllib.request as request\n",
    "from src.DS_project import logger\n",
    "import zipfile"
   ]
  },
  {
   "cell_type": "code",
   "execution_count": 10,
   "id": "a585d8a3",
   "metadata": {},
   "outputs": [],
   "source": [
    "class DataIngestion:\n",
    "    def __init__(self , config:DataIngestionConfig):\n",
    "        self.config = config\n",
    "    \n",
    "    def download_file(self):\n",
    "        if not os.path.exists(self.config.source_URL):\n",
    "            filename, headers = request.urlretrieve(\n",
    "                url = self.config.source_URL,\n",
    "                filename = self.config.local_data_file\n",
    "            )\n",
    "\n",
    "            logger.info(f\"{filename} download! with following info: \\n{headers}\")\n",
    "        else:\n",
    "            logger.info(f\"File already exists\")\n",
    "\n",
    "    \n",
    "    def extract_zip(self):\n",
    "        unzip_path = self.config.unzip_dir\n",
    "        os.makedirs(unzip_path , exist_ok=True)\n",
    "        with zipfile.ZipFile(self.config.local_data_file, 'r') as zip_ref:\n",
    "            zip_ref.extractall(unzip_path)"
   ]
  },
  {
   "cell_type": "code",
   "execution_count": 11,
   "id": "5f3b4085",
   "metadata": {},
   "outputs": [
    {
     "name": "stdout",
     "output_type": "stream",
     "text": [
      "2025-07-02 12:50:17,873: INFO: common: Yaml file: config\\config.yaml is loaded successfully\n",
      "2025-07-02 12:50:17,876: INFO: common: Yaml file: params.yaml is loaded successfully\n",
      "2025-07-02 12:50:17,879: INFO: common: Yaml file: schema.yaml is loaded successfully\n",
      "2025-07-02 12:50:17,880: INFO: common: Directory artifacts is created\n",
      "2025-07-02 12:50:17,882: INFO: common: Directory artifacts/data_ingestion is created\n",
      "2025-07-02 12:50:19,072: INFO: 1644792305: artifacts/data_ingestion/data.zip download! with following info: \n",
      "Connection: close\n",
      "Content-Length: 23329\n",
      "Cache-Control: max-age=300\n",
      "Content-Security-Policy: default-src 'none'; style-src 'unsafe-inline'; sandbox\n",
      "Content-Type: application/zip\n",
      "ETag: \"c69888a4ae59bc5a893392785a938ccd4937981c06ba8a9d6a21aa52b4ab5b6e\"\n",
      "Strict-Transport-Security: max-age=31536000\n",
      "X-Content-Type-Options: nosniff\n",
      "X-Frame-Options: deny\n",
      "X-XSS-Protection: 1; mode=block\n",
      "X-GitHub-Request-Id: 96EE:32EA21:6FCF0:1647D6:6864DC2C\n",
      "Accept-Ranges: bytes\n",
      "Date: Wed, 02 Jul 2025 07:20:19 GMT\n",
      "Via: 1.1 varnish\n",
      "X-Served-By: cache-hyd1100021-HYD\n",
      "X-Cache: HIT\n",
      "X-Cache-Hits: 0\n",
      "X-Timer: S1751440819.925040,VS0,VE241\n",
      "Vary: Authorization,Accept-Encoding\n",
      "Access-Control-Allow-Origin: *\n",
      "Cross-Origin-Resource-Policy: cross-origin\n",
      "X-Fastly-Request-ID: 2b7182acf0163f9d516df5819cc88d6ca38a0d33\n",
      "Expires: Wed, 02 Jul 2025 07:25:19 GMT\n",
      "Source-Age: 0\n",
      "\n",
      "\n"
     ]
    }
   ],
   "source": [
    "try:\n",
    "    cm = ConfigurationManager()\n",
    "    data_ingestion_config= cm.get_data_ingestion()\n",
    "    data_ingestion = DataIngestion(config=data_ingestion_config)\n",
    "    data_ingestion.download_file()\n",
    "    data_ingestion.extract_zip()\n",
    "except Exception as e:\n",
    "    raise e\n"
   ]
  },
  {
   "cell_type": "code",
   "execution_count": null,
   "id": "6a5ee37c",
   "metadata": {},
   "outputs": [],
   "source": []
  }
 ],
 "metadata": {
  "kernelspec": {
   "display_name": "ds_venv",
   "language": "python",
   "name": "python3"
  },
  "language_info": {
   "codemirror_mode": {
    "name": "ipython",
    "version": 3
   },
   "file_extension": ".py",
   "mimetype": "text/x-python",
   "name": "python",
   "nbconvert_exporter": "python",
   "pygments_lexer": "ipython3",
   "version": "3.12.7"
  }
 },
 "nbformat": 4,
 "nbformat_minor": 5
}
